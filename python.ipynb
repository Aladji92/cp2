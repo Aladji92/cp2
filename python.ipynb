{
 "cells": [
  {
   "cell_type": "code",
   "execution_count": 1,
   "id": "01626fea",
   "metadata": {},
   "outputs": [
    {
     "name": "stdout",
     "output_type": "stream",
     "text": [
      "0 nul\n"
     ]
    }
   ],
   "source": [
    "x = 0\n",
    "if x > 0:\n",
    "    print(x, 'positif')\n",
    "elif x == 0:\n",
    "    print(x, 'nul')\n",
    "\n",
    "else:\n",
    "    print(x, 'negatif')"
   ]
  },
  {
   "cell_type": "code",
   "execution_count": 2,
   "id": "4415247f",
   "metadata": {},
   "outputs": [
    {
     "data": {
      "text/plain": [
       "False"
      ]
     },
     "execution_count": 2,
     "metadata": {},
     "output_type": "execute_result"
    }
   ],
   "source": [
    "x < 0 "
   ]
  },
  {
   "cell_type": "code",
   "execution_count": 3,
   "id": "0ecb92ac",
   "metadata": {},
   "outputs": [
    {
     "data": {
      "text/plain": [
       "False"
      ]
     },
     "execution_count": 3,
     "metadata": {},
     "output_type": "execute_result"
    }
   ],
   "source": [
    "x > 0"
   ]
  },
  {
   "cell_type": "code",
   "execution_count": 4,
   "id": "d084b4e2",
   "metadata": {},
   "outputs": [],
   "source": [
    "x = 0"
   ]
  },
  {
   "cell_type": "code",
   "execution_count": 5,
   "id": "190133dc",
   "metadata": {},
   "outputs": [
    {
     "name": "stdout",
     "output_type": "stream",
     "text": [
      "test 0\n"
     ]
    }
   ],
   "source": [
    "print(\"test {}\".format(x))"
   ]
  },
  {
   "cell_type": "code",
   "execution_count": 6,
   "id": "64312e06",
   "metadata": {},
   "outputs": [
    {
     "name": "stdout",
     "output_type": "stream",
     "text": [
      "entrer un nombre7\n",
      "le factoriel de 7 est 5040\n"
     ]
    }
   ],
   "source": [
    "a = int(input(\"entrer un nombre\"))\n",
    "f = 1\n",
    "for i in range(1, a+1):\n",
    "    f = f*i\n",
    "print(\"le factoriel de {} est {}\".format(a, f))"
   ]
  },
  {
   "cell_type": "code",
   "execution_count": 7,
   "id": "5ca05ad7",
   "metadata": {},
   "outputs": [
    {
     "name": "stdout",
     "output_type": "stream",
     "text": [
      "veillez saisir un nombre 8\n",
      "{1: 1, 2: 4, 3: 9, 4: 16, 5: 25, 6: 36, 7: 49, 8: 64}\n"
     ]
    }
   ],
   "source": [
    "dict1 = {}\n",
    "nb = int(input(\"veillez saisir un nombre \"))\n",
    "for p in range(1, nb+1):\n",
    "    dict1[p] = p * p\n",
    "    \n",
    "print(dict1)"
   ]
  },
  {
   "cell_type": "code",
   "execution_count": 8,
   "id": "188ee628",
   "metadata": {},
   "outputs": [
    {
     "name": "stdout",
     "output_type": "stream",
     "text": [
      "entrer un nombre 6\n"
     ]
    },
    {
     "data": {
      "text/plain": [
       "'6'"
      ]
     },
     "execution_count": 8,
     "metadata": {},
     "output_type": "execute_result"
    }
   ],
   "source": [
    "chaine = input(\"entrer un nombre \")\n",
    "\n",
    "chaine"
   ]
  },
  {
   "cell_type": "code",
   "execution_count": 9,
   "id": "2da7b013",
   "metadata": {},
   "outputs": [
    {
     "name": "stdout",
     "output_type": "stream",
     "text": [
      "ktten\n"
     ]
    }
   ],
   "source": [
    "listgo = \"kitten\" # exercice 4\n",
    "listgo_list = list(listgo)\n",
    "listgo_list.pop(1) \n",
    "listgo = \"\".join(listgo_list)\n",
    "print(listgo)"
   ]
  },
  {
   "cell_type": "code",
   "execution_count": 10,
   "id": "0b6d13f3",
   "metadata": {},
   "outputs": [
    {
     "name": "stdout",
     "output_type": "stream",
     "text": [
      "itten\n"
     ]
    }
   ],
   "source": [
    "listgo = \"kitten\"\n",
    "listgo_list = listgo[1:]\n",
    "print(listgo_list)"
   ]
  },
  {
   "cell_type": "code",
   "execution_count": 11,
   "id": "dfc40fb1",
   "metadata": {},
   "outputs": [
    {
     "name": "stdout",
     "output_type": "stream",
     "text": [
      "kittn\n"
     ]
    }
   ],
   "source": [
    "listgo = \"kitten\"\n",
    "listgo_list = list(listgo)\n",
    "listgo_list.pop(4) \n",
    "listgo = \"\".join(listgo_list)\n",
    "print(listgo)"
   ]
  },
  {
   "cell_type": "code",
   "execution_count": 12,
   "id": "a0de7fa1",
   "metadata": {},
   "outputs": [],
   "source": [
    "import numpy as np # exercice 5"
   ]
  },
  {
   "cell_type": "code",
   "execution_count": 13,
   "id": "86ce59d6",
   "metadata": {},
   "outputs": [],
   "source": [
    "arr = np.array([[0, 1], [2, 3], [4, 5]])"
   ]
  },
  {
   "cell_type": "code",
   "execution_count": 14,
   "id": "4fb51831",
   "metadata": {},
   "outputs": [
    {
     "data": {
      "text/plain": [
       "array([[0, 1],\n",
       "       [2, 3],\n",
       "       [4, 5]])"
      ]
     },
     "execution_count": 14,
     "metadata": {},
     "output_type": "execute_result"
    }
   ],
   "source": [
    "arr"
   ]
  },
  {
   "cell_type": "code",
   "execution_count": 15,
   "id": "2a2b5605",
   "metadata": {},
   "outputs": [
    {
     "data": {
      "text/plain": [
       "[[0, 1], [2, 3], [4, 5]]"
      ]
     },
     "execution_count": 15,
     "metadata": {},
     "output_type": "execute_result"
    }
   ],
   "source": [
    "arr.tolist()"
   ]
  },
  {
   "cell_type": "code",
   "execution_count": 16,
   "id": "9208b33b",
   "metadata": {},
   "outputs": [],
   "source": [
    "import numpy as np # exercice 6"
   ]
  },
  {
   "cell_type": "code",
   "execution_count": 17,
   "id": "159547b4",
   "metadata": {},
   "outputs": [
    {
     "name": "stdout",
     "output_type": "stream",
     "text": [
      "-1.0\n"
     ]
    }
   ],
   "source": [
    "array1 = np.array([0,1,2])\n",
    "array2 = np.array([2,1,0])\n",
    "covariance = np.cov(array1, array2)[0][1]\n",
    "print(covariance)"
   ]
  },
  {
   "cell_type": "code",
   "execution_count": 18,
   "id": "d99ba1cd",
   "metadata": {},
   "outputs": [
    {
     "name": "stdout",
     "output_type": "stream",
     "text": [
      "1.5\n"
     ]
    }
   ],
   "source": [
    "array3 = np.array([1,2,3])\n",
    "array4 = np.array([2,4,5])\n",
    "covariance = np.cov(array3, array4)[0][1]\n",
    "print(covariance)"
   ]
  },
  {
   "cell_type": "code",
   "execution_count": 19,
   "id": "0fc5ae96",
   "metadata": {},
   "outputs": [
    {
     "name": "stdout",
     "output_type": "stream",
     "text": [
      "1.0\n"
     ]
    }
   ],
   "source": [
    "array1 = np.array([0,1,2])\n",
    "array2 = np.array([2,1,0])\n",
    "covariance = np.cov(array1, array2)[1,-1]\n",
    "print(covariance)"
   ]
  },
  {
   "cell_type": "code",
   "execution_count": 20,
   "id": "99842337",
   "metadata": {},
   "outputs": [
    {
     "name": "stdout",
     "output_type": "stream",
     "text": [
      "1.0\n"
     ]
    }
   ],
   "source": [
    "array1 = np.array([0,1,2])\n",
    "array2 = np.array([2,1,0])\n",
    "covariance = np.cov(array1, array2)[-1,1]\n",
    "print(covariance)"
   ]
  },
  {
   "cell_type": "code",
   "execution_count": null,
   "id": "448ff17c",
   "metadata": {},
   "outputs": [],
   "source": []
  }
 ],
 "metadata": {
  "kernelspec": {
   "display_name": "Python 3 (ipykernel)",
   "language": "python",
   "name": "python3"
  },
  "language_info": {
   "codemirror_mode": {
    "name": "ipython",
    "version": 3
   },
   "file_extension": ".py",
   "mimetype": "text/x-python",
   "name": "python",
   "nbconvert_exporter": "python",
   "pygments_lexer": "ipython3",
   "version": "3.9.7"
  }
 },
 "nbformat": 4,
 "nbformat_minor": 5
}
